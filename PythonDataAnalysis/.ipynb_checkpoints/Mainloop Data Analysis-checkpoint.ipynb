{
 "cells": [
  {
   "cell_type": "markdown",
   "id": "7659861c",
   "metadata": {},
   "source": [
    "Imports"
   ]
  },
  {
   "cell_type": "code",
   "execution_count": 1,
   "id": "a3abac8b",
   "metadata": {
    "ExecuteTime": {
     "end_time": "2023-02-07T23:21:41.052875Z",
     "start_time": "2023-02-07T23:21:39.512689Z"
    }
   },
   "outputs": [],
   "source": [
    "import pandas as pd\n",
    "import numpy as np\n",
    "import matplotlib.pyplot as plt\n",
    "from statsmodels.graphics.gofplots import qqplot\n",
    "import scipy.stats as stats\n",
    "\n",
    "import os\n",
    "from os import listdir\n",
    "from os.path import isfile, join\n",
    "pd.set_option('display.max_columns', 50)"
   ]
  },
  {
   "cell_type": "code",
   "execution_count": 2,
   "id": "50e924d0",
   "metadata": {
    "ExecuteTime": {
     "end_time": "2023-02-07T23:21:43.885594Z",
     "start_time": "2023-02-07T23:21:43.877141Z"
    }
   },
   "outputs": [
    {
     "data": {
      "text/plain": [
       "['CapitalFirmAgentDataInit_t_0.csv',\n",
       " 'ConsumerFirmAgentDataInit_t_0.csv',\n",
       " 'HouseholdDataInit_t_0.csv']"
      ]
     },
     "execution_count": 2,
     "metadata": {},
     "output_type": "execute_result"
    }
   ],
   "source": [
    "mypath = \"..\\Datalogs\"\n",
    "files = [f for f in listdir(mypath) if isfile(join(mypath, f))]\n",
    "files"
   ]
  },
  {
   "cell_type": "code",
   "execution_count": null,
   "id": "aff77b34",
   "metadata": {},
   "outputs": [],
   "source": [
    "\n",
    "\n",
    "household_file = os.path.join(mypath, files[2])\n",
    "cons_firm_file = os.path.join(mypath, files[1])\n",
    "cap_firm_file = os.path.join(mypath, files[0])\n",
    "\n",
    "df_h = pd.read_csv(household_file)\n",
    "df_cons =  pd.read_csv(cons_firm_file)\n",
    "df_cap = pd.read_csv(cap_firm_file)"
   ]
  }
 ],
 "metadata": {
  "kernelspec": {
   "display_name": "Python 3 (ipykernel)",
   "language": "python",
   "name": "python3"
  },
  "language_info": {
   "codemirror_mode": {
    "name": "ipython",
    "version": 3
   },
   "file_extension": ".py",
   "mimetype": "text/x-python",
   "name": "python",
   "nbconvert_exporter": "python",
   "pygments_lexer": "ipython3",
   "version": "3.8.16"
  }
 },
 "nbformat": 4,
 "nbformat_minor": 5
}
