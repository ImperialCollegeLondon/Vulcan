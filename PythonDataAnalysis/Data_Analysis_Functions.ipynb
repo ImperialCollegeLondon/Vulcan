{
 "cells": [
  {
   "attachments": {},
   "cell_type": "markdown",
   "metadata": {},
   "source": [
    "Imports"
   ]
  },
  {
   "cell_type": "code",
   "execution_count": 8,
   "metadata": {},
   "outputs": [],
   "source": [
    "import pandas as pd\n",
    "import numpy as np\n",
    "import matplotlib.pyplot as plt\n",
    "import random\n",
    "import seaborn as sns\n",
    "\n",
    "from statsmodels.graphics.gofplots import qqplot\n",
    "import scipy.stats as stats\n",
    "\n",
    "import os\n",
    "from os import listdir\n",
    "from os.path import isfile, join\n",
    "import glob\n",
    "pd.set_option('display.max_columns', 50)"
   ]
  },
  {
   "attachments": {},
   "cell_type": "markdown",
   "metadata": {},
   "source": [
    "Function to plot everything contained in a given dataframe, except for the given columns"
   ]
  },
  {
   "cell_type": "code",
   "execution_count": 7,
   "metadata": {},
   "outputs": [],
   "source": [
    "def plot_values_excl(plot_name, df, t, exclude_cols=[]):\n",
    "    cols = [col for col in df.columns if not any(col.startswith(exclude) for exclude in exclude_cols)]\n",
    "    num_plots = len(cols)\n",
    "    num_cols = 3\n",
    "    num_rows = num_plots // num_cols + (num_plots % num_cols > 0)\n",
    "    fig, axs = plt.subplots(nrows=num_rows, ncols=num_cols, figsize=(15, 5*num_rows))\n",
    "    axs = axs.flatten()\n",
    "\n",
    "    for i, column in enumerate(cols):\n",
    "        title = column\n",
    "        color = \"#\" + ''.join([random.choice('0123456789ABCDEF') for j in range(6)])\n",
    "        axs[i].plot(t, df[column], label=title, color=color)\n",
    "        axs[i].set_xlabel('Timestep')\n",
    "        axs[i].set_ylabel(column)\n",
    "        axs[i].set_title(column.capitalize() )\n",
    "        #axs[i].legend()\n",
    "        axs[i].grid(True)\n",
    "    plt.tight_layout()\n",
    "    plt.savefig(f\"{plot_name}.png\", dpi=600)\n",
    "    plt.show()\n",
    "\n",
    "def plot_values_incl(plot_name, df, t, include_cols=[]):\n",
    "    cols = [col for col in df.columns if any(col.startswith(include) for include in include_cols)]\n",
    "    num_plots = len(cols)\n",
    "    num_cols = 3\n",
    "    num_rows = num_plots // num_cols + (num_plots % num_cols > 0)\n",
    "    fig, axs = plt.subplots(nrows=num_rows, ncols=num_cols, figsize=(15, 5*num_rows))\n",
    "    axs = axs.flatten()\n",
    "\n",
    "    for i, column in enumerate(cols):\n",
    "        title = column.capitalize()\n",
    "        color = \"#\" + ''.join([random.choice('0123456789ABCDEF') for j in range(6)])\n",
    "        axs[i].plot(t, df[column], label=title, color=color)\n",
    "        axs[i].set_xlabel('Timestep')\n",
    "        axs[i].set_ylabel(column)\n",
    "        axs[i].set_title(column.capitalize())\n",
    "        #axs[i].legend()\n",
    "        axs[i].grid(True)\n",
    "    plt.tight_layout()\n",
    "    plt.savefig(f\"{plot_name}.png\", dpi=600)\n",
    "    plt.show()\n"
   ]
  },
  {
   "attachments": {},
   "cell_type": "markdown",
   "metadata": {},
   "source": [
    "Function to plot histogram of given timesteps, column and dataframe"
   ]
  },
  {
   "cell_type": "code",
   "execution_count": 10,
   "metadata": {},
   "outputs": [],
   "source": [
    "def plot_histogram(name,df, cols, times, nrows=2):\n",
    "    ncols = int(np.ceil(len(times) / nrows))\n",
    "    fig, axs = plt.subplots(nrows=nrows, ncols=ncols, figsize=(15, 5 * nrows))\n",
    "    axs = axs.ravel() # Flatten the array for easy indexing\n",
    "    for i, time in enumerate(times):\n",
    "        sns.histplot(df[df['date'] == time][cols[0]], bins=25, ax=axs[i], kde=False)\n",
    "        axs[i].set_xlabel(cols[0])\n",
    "        axs[i].set_ylabel('Frequency')\n",
    "        axs[i].set_title(f'Distribution of {cols[0]} at t={time}')\n",
    "    # Remove unused subplots\n",
    "    for j in range(i+1, nrows*ncols):\n",
    "        fig.delaxes(axs[j])\n",
    "\n",
    "    fig.suptitle(f\" Distribution of {cols[0]} across time\", fontsize=16)\n",
    "    \n",
    "    plt.tight_layout()\n",
    "\n",
    "    plt.savefig(f\"{name}.png\", dpi=600)\n",
    "    plt.show()\n"
   ]
  },
  {
   "attachments": {},
   "cell_type": "markdown",
   "metadata": {},
   "source": [
    "Function to output distribution properties and histogram plots for given dataframe, column, and times"
   ]
  },
  {
   "cell_type": "code",
   "execution_count": 13,
   "metadata": {},
   "outputs": [],
   "source": [
    "def analyze_distribution(name,df, col_name, dates):\n",
    "    results = []\n",
    "    for date in dates:\n",
    "        # Filter the DataFrame by date\n",
    "        df_date = df[df['date'] == date]  # assuming the date column is named 'date'\n",
    "\n",
    "        # Calculate statistics\n",
    "        mean = df_date[col_name].mean()\n",
    "        std = df_date[col_name].std()\n",
    "        min_val = df_date[col_name].min()\n",
    "        max_val = df_date[col_name].max()\n",
    "        \n",
    "        # Assuming the data follows a normal distribution, the bounds of the uniform\n",
    "        # distribution that may have generated the data would be around the 3-sigma\n",
    "        # range (as it contains about 99.7% of the data in a normal distribution).\n",
    "        uniform_min = mean - 3 * std\n",
    "        uniform_max = mean + 3 * std\n",
    "        \n",
    "        # Adjust the bounds to not exceed the actual min and max values\n",
    "        uniform_min = max(uniform_min, min_val)\n",
    "        uniform_max = min(uniform_max, max_val)\n",
    "\n",
    "        # Perform Shapiro-Wilk test for normality\n",
    "        #_, p_value = stats.shapiro(df_date[col_name])\n",
    "\n",
    "        result = {\n",
    "            'date': date,\n",
    "            'mean': mean,\n",
    "            'std': std,\n",
    "            'min': min_val,\n",
    "            'max': max_val,\n",
    "            #'uniform_distribution_bounds': (uniform_min, uniform_max),\n",
    "            #'normality_p_value': p_value\n",
    "        }\n",
    "        results.append(result)\n",
    "\n",
    "    plot_histogram(name,df, [col_name], dates)\n",
    "\n",
    "    return results\n"
   ]
  },
  {
   "cell_type": "code",
   "execution_count": null,
   "metadata": {},
   "outputs": [],
   "source": []
  },
  {
   "attachments": {},
   "cell_type": "markdown",
   "metadata": {},
   "source": [
    "Function to plot multiple columns overlaid  in the same plot"
   ]
  },
  {
   "cell_type": "code",
   "execution_count": 11,
   "metadata": {},
   "outputs": [],
   "source": [
    "import seaborn as sns\n",
    "\n",
    "def plot_columns(n_rows=2, name=\"composite_plot\", *args):\n",
    "    # Calculate the number of columns based on the number of rows\n",
    "    n_cols = np.ceil(len(args) / (2 * n_rows)).astype(int)\n",
    "\n",
    "    fig, axes = plt.subplots(n_rows, n_cols, figsize=(10, 8))  # Create subplots\n",
    "\n",
    "    axes = axes.flatten()  # Flatten the axes object to easily iterate over it\n",
    "\n",
    "    for i in range(0, len(args), 2):\n",
    "        df = args[i]\n",
    "        col_name = args[i + 1]\n",
    "\n",
    "        # Plot the column data with label\n",
    "        sns.lineplot(data=df[col_name], ax=axes[i // 2], color='C' + str(i // 2))\n",
    "\n",
    "        # Set y label as column name\n",
    "        axes[i // 2].set_ylabel(col_name)\n",
    "\n",
    "        # Set x label as time\n",
    "        axes[i // 2].set_xlabel('Time')\n",
    "\n",
    "        # Set plot title as column name\n",
    "        axes[i // 2].set_title(col_name.capitalize())\n",
    "\n",
    "        # Add grid lines\n",
    "        axes[i // 2].grid(True)\n",
    "        \n",
    "        \n",
    "        \n",
    "        \n",
    "    # If there are fewer plots than total subplots, remove the extras\n",
    "    if len(args) // 2 < len(axes):\n",
    "        for ax in axes[len(args) // 2:]:\n",
    "            fig.delaxes(ax)\n",
    "\n",
    "    plt.tight_layout()  # Adjust subplot parameters to give specified padding\n",
    "\n",
    "    # Save the figure as a high-resolution PNG image\n",
    "    plt.savefig(f'{name}.png', dpi=600)\n",
    "    \n",
    "\n",
    "    plt.show()\n"
   ]
  },
  {
   "attachments": {},
   "cell_type": "markdown",
   "metadata": {},
   "source": [
    "Function to check normality at t =0\n"
   ]
  },
  {
   "cell_type": "code",
   "execution_count": 7,
   "metadata": {},
   "outputs": [],
   "source": [
    "def plot_qq_and_hist(df,col):\n",
    "    plt.figure(figsize=(10,4))\n",
    "    \n",
    "    plt.subplot(1,2,1)\n",
    "    #bin_size = int(np.ceil(np.sqrt(len(data))))\n",
    "    plt.hist(df[col], bins = 'auto')\n",
    "    plt.title('Histogram of {}'.format(col))\n",
    "    plt.xlabel(\"Value\")\n",
    "    plt.ylabel(\"Frequency\")\n",
    "    \n",
    "    plt.subplot(1,2,2)\n",
    "    stats.probplot(df[col], dist=\"norm\", plot=plt)\n",
    "    plt.title(col + \" Normal Distribution QQ plot\")\n",
    "    plt.show()"
   ]
  },
  {
   "cell_type": "code",
   "execution_count": null,
   "metadata": {},
   "outputs": [],
   "source": [
    "#Get all columns that should be normally distributed (i.e. not all zeros)\n",
    "\"\"\"df_h_norm = df_h.loc[:,((df_h.sum(axis=0) != 0)&(df_h.mean(axis=0) != 1))]\n",
    "df_h_norm.head()\n",
    "for col_name in df_h_norm.columns:\n",
    "     plot_qq_and_hist(df_h_norm,col_name)\"\"\""
   ]
  },
  {
   "cell_type": "code",
   "execution_count": null,
   "metadata": {},
   "outputs": [],
   "source": []
  },
  {
   "cell_type": "code",
   "execution_count": null,
   "metadata": {},
   "outputs": [],
   "source": []
  },
  {
   "cell_type": "code",
   "execution_count": null,
   "metadata": {},
   "outputs": [],
   "source": []
  }
 ],
 "metadata": {
  "kernelspec": {
   "display_name": "base",
   "language": "python",
   "name": "python3"
  },
  "language_info": {
   "codemirror_mode": {
    "name": "ipython",
    "version": 3
   },
   "file_extension": ".py",
   "mimetype": "text/x-python",
   "name": "python",
   "nbconvert_exporter": "python",
   "pygments_lexer": "ipython3",
   "version": "3.10.13"
  },
  "orig_nbformat": 4
 },
 "nbformat": 4,
 "nbformat_minor": 2
}
