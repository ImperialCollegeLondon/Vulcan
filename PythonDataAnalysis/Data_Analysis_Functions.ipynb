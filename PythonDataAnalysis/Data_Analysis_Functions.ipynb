{
 "cells": [
  {
   "cell_type": "markdown",
   "metadata": {},
   "source": [
    "Imports"
   ]
  },
  {
   "cell_type": "code",
   "execution_count": null,
   "metadata": {},
   "outputs": [],
   "source": [
    "import pandas as pd\n",
    "import numpy as np\n",
    "import matplotlib.pyplot as plt\n",
    "import random\n",
    "\n",
    "from statsmodels.graphics.gofplots import qqplot\n",
    "import scipy.stats as stats\n",
    "\n",
    "import os\n",
    "from os import listdir\n",
    "from os.path import isfile, join\n",
    "import glob\n",
    "pd.set_option('display.max_columns', 50)"
   ]
  },
  {
   "attachments": {},
   "cell_type": "markdown",
   "metadata": {},
   "source": [
    "Function to plot everything contained in a given dataframe"
   ]
  },
  {
   "cell_type": "code",
   "execution_count": 6,
   "metadata": {},
   "outputs": [],
   "source": [
    "def plot_values(df, t, average, exclude_cols=[]):\n",
    "    cols = [col for col in df.columns if not any(col.startswith(exclude) for exclude in exclude_cols)]\n",
    "    num_plots = len(cols)\n",
    "    num_cols = 3\n",
    "    num_rows = num_plots // num_cols + (num_plots % num_cols > 0)\n",
    "    fig, axs = plt.subplots(nrows=num_rows, ncols=num_cols, figsize=(15, 5*num_rows))\n",
    "    axs = axs.flatten()\n",
    "\n",
    "    for i, column in enumerate(cols):\n",
    "        title = column + \": (average)\" if average else column + \": (sum)\"\n",
    "        color = \"#\" + ''.join([random.choice('0123456789ABCDEF') for j in range(6)])\n",
    "        axs[i].plot(t, df[column], label=title, color=color)\n",
    "        axs[i].set_xlabel('Timestep')\n",
    "        axs[i].set_ylabel('Values')\n",
    "        axs[i].set_title(column)\n",
    "        axs[i].legend()\n",
    "        axs[i].grid(True)\n",
    "    plt.tight_layout()\n",
    "    plt.show()\n"
   ]
  },
  {
   "attachments": {},
   "cell_type": "markdown",
   "metadata": {},
   "source": [
    "Function to plot histogram of given timesteps, column and dataframe"
   ]
  },
  {
   "cell_type": "code",
   "execution_count": 2,
   "metadata": {},
   "outputs": [],
   "source": [
    "def plot_histogram(df, times, cols):\n",
    "    if len(times) == 1:\n",
    "        fig, ax = plt.subplots(figsize=(8, 5))\n",
    "        ax.hist(df[df['date'] == times[0]][cols[0]], bins=25)\n",
    "        ax.set_xlabel(cols[0])\n",
    "        ax.set_ylabel('Frequency')\n",
    "        ax.set_title(f'Distribution of {cols[0]} at t={times[0]}')\n",
    "        plt.show()\n",
    "    else:\n",
    "        fig, axs = plt.subplots(nrows=1, ncols=len(times), figsize=(15, 5))\n",
    "        for i, time in enumerate(times):\n",
    "            axs[i].hist(df[df['date'] == time][col], bins=25)\n",
    "            axs[i].set_xlabel(col)\n",
    "            axs[i].set_ylabel('Frequency')\n",
    "            axs[i].set_title(f'Distribution of {col} at t={time}')\n",
    "        plt.tight_layout()\n",
    "        plt.show()\n"
   ]
  },
  {
   "attachments": {},
   "cell_type": "markdown",
   "metadata": {},
   "source": [
    "Function to output distribution properties and histogram plots for given dataframe, column, and times\n"
   ]
  },
  {
   "cell_type": "code",
   "execution_count": 4,
   "metadata": {},
   "outputs": [],
   "source": [
    "\n",
    "\n",
    "def analyze_distribution(df, col_name, dates):\n",
    "    results = []\n",
    "    for date in dates:\n",
    "        # Filter the DataFrame by date\n",
    "        df_date = df[df['date'] == date]  # assuming the date column is named 'date'\n",
    "\n",
    "        # Calculate statistics\n",
    "        mean = df_date[col_name].mean()\n",
    "        std = df_date[col_name].std()\n",
    "        min_val = df_date[col_name].min()\n",
    "        max_val = df_date[col_name].max()\n",
    "        \n",
    "        # Assuming the data follows a normal distribution, the bounds of the uniform\n",
    "        # distribution that may have generated the data would be around the 3-sigma\n",
    "        # range (as it contains about 99.7% of the data in a normal distribution).\n",
    "        uniform_min = mean - 3 * std\n",
    "        uniform_max = mean + 3 * std\n",
    "        \n",
    "        # Adjust the bounds to not exceed the actual min and max values\n",
    "        uniform_min = max(uniform_min, min_val)\n",
    "        uniform_max = min(uniform_max, max_val)\n",
    "\n",
    "        # Perform Shapiro-Wilk test for normality\n",
    "        _, p_value = stats.shapiro(df_date[col_name])\n",
    "\n",
    "        result = {\n",
    "            'date': date,\n",
    "            'mean': mean,\n",
    "            'std': std,\n",
    "            'min': min_val,\n",
    "            'max': max_val,\n",
    "            'uniform_distribution_bounds': (uniform_min, uniform_max),\n",
    "            'normality_p_value': p_value\n",
    "        }\n",
    "        results.append(result)\n",
    "\n",
    "        plot_histogram(df_date, [date], [col_name])\n",
    "\n",
    "    return results\n"
   ]
  },
  {
   "cell_type": "markdown",
   "metadata": {},
   "source": [
    "Function to plot multiple columns together in the same plot"
   ]
  },
  {
   "cell_type": "code",
   "execution_count": 5,
   "metadata": {},
   "outputs": [],
   "source": [
    "def plot_columns(df, *col_names):\n",
    "    # Create a new figure\n",
    "    plt.figure(figsize=(10, 6))\n",
    "    \n",
    "    # Define some colors (add more if needed)\n",
    "    colors = ['b', 'g', 'r', 'c', 'm', 'y', 'k']\n",
    "    \n",
    "    for i, col_name in enumerate(col_names):\n",
    "        # Normalize the column to [0, 1] for plotting on the same graph\n",
    "        column = df[col_name]\n",
    "        normalized_column = (column - column.min()) / (column.max() - column.min())\n",
    "        \n",
    "        # Plot the column with a color\n",
    "        plt.plot(df.index, normalized_column, color=colors[i % len(colors)], label=col_name)\n",
    "    \n",
    "    # Add a legend\n",
    "    plt.legend()\n",
    "    \n",
    "    # Show the plot\n",
    "    plt.show()\n"
   ]
  },
  {
   "cell_type": "markdown",
   "metadata": {},
   "source": []
  }
 ],
 "metadata": {
  "kernelspec": {
   "display_name": "base",
   "language": "python",
   "name": "python3"
  },
  "language_info": {
   "codemirror_mode": {
    "name": "ipython",
    "version": 3
   },
   "file_extension": ".py",
   "mimetype": "text/x-python",
   "name": "python",
   "nbconvert_exporter": "python",
   "pygments_lexer": "ipython3",
   "version": "3.8.16"
  },
  "orig_nbformat": 4
 },
 "nbformat": 4,
 "nbformat_minor": 2
}
