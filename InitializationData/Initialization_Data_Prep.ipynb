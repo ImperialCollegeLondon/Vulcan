{
 "cells": [
  {
   "cell_type": "code",
   "execution_count": 1,
   "metadata": {},
   "outputs": [],
   "source": [
    "import pandas as pd"
   ]
  },
  {
   "cell_type": "code",
   "execution_count": 2,
   "metadata": {},
   "outputs": [
    {
     "name": "stdout",
     "output_type": "stream",
     "text": [
      "Now working on sheet name:  Initialization_Parameters\n",
      "Now working on sheet name:  Main_Loop_Parameters\n",
      "Now working on sheet name:  Randomness_Parameters\n",
      "Now working on sheet name:  Consumer_Firm_Sectors\n"
     ]
    }
   ],
   "source": [
    "def process_excel_file(filename):\n",
    "    xls = pd.read_excel(filename, sheet_name=None, engine='openpyxl')\n",
    "\n",
    "    for sheet_name, data in xls.items():\n",
    "        print(\"Now working on sheet name: \", sheet_name)\n",
    "        if sheet_name != \"Consumer_Firm_Sectors\":\n",
    "            # Remove rows with missing values in the second column\n",
    "            data = data.dropna(subset=[data.columns[1]])\n",
    "            data = data[pd.to_numeric(data.iloc[:, 1], errors='coerce').notnull()] # Keep only rows with numeric values in the second column\n",
    "            data.to_csv(f\"{sheet_name}.csv\", index=False, header=False)\n",
    "        else:\n",
    "            data.iloc[:, 0] = data.iloc[:, 0].str.replace(' ', '_') # Replace spaces with underscores\n",
    "            data.to_csv(f\"{sheet_name}.csv\", index=False)\n",
    "\n",
    "        \n",
    "\n",
    "process_excel_file(\"Simulation_Parameters.xlsx\")\n"
   ]
  },
  {
   "cell_type": "code",
   "execution_count": 3,
   "metadata": {},
   "outputs": [],
   "source": [
    "xls = pd.read_excel(\"Simulation_Parameters.xlsx\", sheet_name=None, engine='openpyxl')"
   ]
  },
  {
   "cell_type": "code",
   "execution_count": 4,
   "metadata": {},
   "outputs": [],
   "source": [
    "data = xls['Initialization_Parameters']"
   ]
  },
  {
   "cell_type": "code",
   "execution_count": 5,
   "metadata": {},
   "outputs": [
    {
     "data": {
      "text/html": [
       "<div>\n",
       "<style scoped>\n",
       "    .dataframe tbody tr th:only-of-type {\n",
       "        vertical-align: middle;\n",
       "    }\n",
       "\n",
       "    .dataframe tbody tr th {\n",
       "        vertical-align: top;\n",
       "    }\n",
       "\n",
       "    .dataframe thead th {\n",
       "        text-align: right;\n",
       "    }\n",
       "</style>\n",
       "<table border=\"1\" class=\"dataframe\">\n",
       "  <thead>\n",
       "    <tr style=\"text-align: right;\">\n",
       "      <th></th>\n",
       "      <th>Agent Initialization Parameters</th>\n",
       "      <th>Value</th>\n",
       "    </tr>\n",
       "  </thead>\n",
       "  <tbody>\n",
       "    <tr>\n",
       "      <th>0</th>\n",
       "      <td>Bank</td>\n",
       "      <td>NaN</td>\n",
       "    </tr>\n",
       "    <tr>\n",
       "      <th>1</th>\n",
       "      <td>bank_init_interest_rate</td>\n",
       "      <td>0.02</td>\n",
       "    </tr>\n",
       "    <tr>\n",
       "      <th>2</th>\n",
       "      <td>Households</td>\n",
       "      <td>NaN</td>\n",
       "    </tr>\n",
       "    <tr>\n",
       "      <th>3</th>\n",
       "      <td>household_init_c_std</td>\n",
       "      <td>0.15</td>\n",
       "    </tr>\n",
       "    <tr>\n",
       "      <th>4</th>\n",
       "      <td>household_init_c_min</td>\n",
       "      <td>0.10</td>\n",
       "    </tr>\n",
       "    <tr>\n",
       "      <th>...</th>\n",
       "      <td>...</td>\n",
       "      <td>...</td>\n",
       "    </tr>\n",
       "    <tr>\n",
       "      <th>136</th>\n",
       "      <td>emisssion_sensitivity_std</td>\n",
       "      <td>0.10</td>\n",
       "    </tr>\n",
       "    <tr>\n",
       "      <th>137</th>\n",
       "      <td>emission_sensitivity_threshold</td>\n",
       "      <td>0.05</td>\n",
       "    </tr>\n",
       "    <tr>\n",
       "      <th>138</th>\n",
       "      <td>Emission Allowances</td>\n",
       "      <td>NaN</td>\n",
       "    </tr>\n",
       "    <tr>\n",
       "      <th>139</th>\n",
       "      <td>emission_init_total_allowance</td>\n",
       "      <td>1000000.00</td>\n",
       "    </tr>\n",
       "    <tr>\n",
       "      <th>140</th>\n",
       "      <td>emission_init_unit_price</td>\n",
       "      <td>0.50</td>\n",
       "    </tr>\n",
       "  </tbody>\n",
       "</table>\n",
       "<p>141 rows × 2 columns</p>\n",
       "</div>"
      ],
      "text/plain": [
       "    Agent Initialization Parameters       Value\n",
       "0                              Bank         NaN\n",
       "1           bank_init_interest_rate        0.02\n",
       "2                        Households         NaN\n",
       "3              household_init_c_std        0.15\n",
       "4              household_init_c_min        0.10\n",
       "..                              ...         ...\n",
       "136       emisssion_sensitivity_std        0.10\n",
       "137  emission_sensitivity_threshold        0.05\n",
       "138             Emission Allowances         NaN\n",
       "139   emission_init_total_allowance  1000000.00\n",
       "140        emission_init_unit_price        0.50\n",
       "\n",
       "[141 rows x 2 columns]"
      ]
     },
     "execution_count": 5,
     "metadata": {},
     "output_type": "execute_result"
    }
   ],
   "source": [
    "data"
   ]
  },
  {
   "cell_type": "code",
   "execution_count": null,
   "metadata": {},
   "outputs": [],
   "source": []
  }
 ],
 "metadata": {
  "kernelspec": {
   "display_name": "base",
   "language": "python",
   "name": "python3"
  },
  "language_info": {
   "codemirror_mode": {
    "name": "ipython",
    "version": 3
   },
   "file_extension": ".py",
   "mimetype": "text/x-python",
   "name": "python",
   "nbconvert_exporter": "python",
   "pygments_lexer": "ipython3",
   "version": "3.8.16"
  },
  "orig_nbformat": 4
 },
 "nbformat": 4,
 "nbformat_minor": 2
}
