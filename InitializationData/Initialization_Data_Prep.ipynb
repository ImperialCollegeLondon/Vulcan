{
 "cells": [
  {
   "cell_type": "code",
   "execution_count": 7,
   "metadata": {},
   "outputs": [
    {
     "name": "stdout",
     "output_type": "stream",
     "text": [
      "Now working on sheet name:  Initialization_Parameters\n",
      "Now working on sheet name:  Main_Loop_Parameters\n",
      "Now working on sheet name:  Randomness_Parameters\n",
      "Now working on sheet name:  Consumer_Firm_Sectors\n"
     ]
    }
   ],
   "source": [
    "import pandas as pd\n",
    "import os\n",
    "import glob\n",
    "\n",
    "# Delete files in DataLogs directory\n",
    "files = glob.glob('../DataLogs/*')\n",
    "for f in files:\n",
    "    os.remove(f)\n",
    "\n",
    "def process_excel_file(filename):\n",
    "    xls = pd.read_excel(filename, sheet_name=None, engine='openpyxl')\n",
    "\n",
    "    for sheet_name, data in xls.items():\n",
    "        print(\"Now working on sheet name: \", sheet_name)\n",
    "        if sheet_name != \"Consumer_Firm_Sectors\":\n",
    "            # Remove rows with missing values in the second column\n",
    "            data = data.dropna(subset=[data.columns[1]])\n",
    "            data = data[pd.to_numeric(data.iloc[:, 1], errors='coerce').notnull()] # Keep only rows with numeric values in the second column\n",
    "            data.to_csv(f\"{sheet_name}.csv\", index=False, header=False)\n",
    "        else:\n",
    "            data.iloc[:, 0] = data.iloc[:, 0].str.replace(' ', '_') # Replace spaces with underscores\n",
    "            data.to_csv(f\"{sheet_name}.csv\", index=False)\n",
    "\n",
    "        \n",
    "\n",
    "process_excel_file(\"Simulation_Parameters.xlsx\")\n"
   ]
  }
 ],
 "metadata": {
  "kernelspec": {
   "display_name": "base",
   "language": "python",
   "name": "python3"
  },
  "language_info": {
   "codemirror_mode": {
    "name": "ipython",
    "version": 3
   },
   "file_extension": ".py",
   "mimetype": "text/x-python",
   "name": "python",
   "nbconvert_exporter": "python",
   "pygments_lexer": "ipython3",
   "version": "3.10.13"
  },
  "orig_nbformat": 4
 },
 "nbformat": 4,
 "nbformat_minor": 2
}
